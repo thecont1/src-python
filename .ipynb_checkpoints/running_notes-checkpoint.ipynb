{
 "cells": [
  {
   "cell_type": "code",
   "execution_count": 2,
   "metadata": {},
   "outputs": [],
   "source": [
    "import numpy as np"
   ]
  },
  {
   "cell_type": "code",
   "execution_count": 15,
   "metadata": {},
   "outputs": [
    {
     "data": {
      "text/plain": [
       "array([[38, 86, 88, 89],\n",
       "       [77, 73, 92,  4],\n",
       "       [31, 76, 81, 84],\n",
       "       [44, 31, 92, 77],\n",
       "       [66, 62, 45, 16],\n",
       "       [88, 80,  0, 77],\n",
       "       [66, 64, 90, 73],\n",
       "       [57, 84, 43, 60]])"
      ]
     },
     "execution_count": 15,
     "metadata": {},
     "output_type": "execute_result"
    }
   ],
   "source": [
    "# Create 2D array with random integer elements\n",
    "arr = np.random.randint(100, size=32).reshape(8, 4)\n",
    "arr"
   ]
  },
  {
   "cell_type": "code",
   "execution_count": 16,
   "metadata": {},
   "outputs": [
    {
     "data": {
      "text/plain": [
       "array([[38, 86, 88, 89],\n",
       "       [ 4, 73, 77, 92],\n",
       "       [31, 76, 81, 84],\n",
       "       [31, 44, 77, 92],\n",
       "       [16, 45, 62, 66],\n",
       "       [ 0, 77, 80, 88],\n",
       "       [64, 66, 73, 90],\n",
       "       [43, 57, 60, 84]])"
      ]
     },
     "execution_count": 16,
     "metadata": {},
     "output_type": "execute_result"
    }
   ],
   "source": [
    "np.sort(arr)"
   ]
  },
  {
   "cell_type": "code",
   "execution_count": 17,
   "metadata": {},
   "outputs": [
    {
     "data": {
      "text/plain": [
       "array([[89, 88, 86, 38],\n",
       "       [92, 77, 73,  4],\n",
       "       [84, 81, 76, 31],\n",
       "       [92, 77, 44, 31],\n",
       "       [66, 62, 45, 16],\n",
       "       [88, 80, 77,  0],\n",
       "       [90, 73, 66, 64],\n",
       "       [84, 60, 57, 43]])"
      ]
     },
     "execution_count": 17,
     "metadata": {},
     "output_type": "execute_result"
    }
   ],
   "source": [
    "np.sort(arr)[:, ::-1]"
   ]
  },
  {
   "cell_type": "code",
   "execution_count": 24,
   "metadata": {},
   "outputs": [
    {
     "data": {
      "text/plain": [
       "array([[1, 2, 3, 4, 5, 1, 2, 3, 4, 5],\n",
       "       [1, 2, 3, 4, 5, 1, 2, 3, 4, 5]])"
      ]
     },
     "execution_count": 24,
     "metadata": {},
     "output_type": "execute_result"
    }
   ],
   "source": [
    "somearr = np.array([1, 2, 3, 4, 5])\n",
    "\n",
    "h = np.tile(somearr, (2, 2))\n",
    "h"
   ]
  },
  {
   "cell_type": "code",
   "execution_count": 30,
   "metadata": {},
   "outputs": [
    {
     "data": {
      "text/plain": [
       "False"
      ]
     },
     "execution_count": 30,
     "metadata": {},
     "output_type": "execute_result"
    }
   ],
   "source": [
    "np.shares_memory(somearr, somearr+1)"
   ]
  },
  {
   "cell_type": "code",
   "execution_count": 39,
   "metadata": {},
   "outputs": [],
   "source": [
    "a = np.arange(1, 11)\n",
    "\n",
    "b = a[a%1 == 0]\n"
   ]
  },
  {
   "cell_type": "code",
   "execution_count": 41,
   "metadata": {},
   "outputs": [
    {
     "data": {
      "text/plain": [
       "True"
      ]
     },
     "execution_count": 41,
     "metadata": {},
     "output_type": "execute_result"
    }
   ],
   "source": [
    "np.shares_memory(a, a.view())"
   ]
  },
  {
   "cell_type": "code",
   "execution_count": 43,
   "metadata": {},
   "outputs": [
    {
     "data": {
      "text/plain": [
       "array([ 1,  2,  3,  4,  5,  6,  7,  8,  9, 10])"
      ]
     },
     "execution_count": 43,
     "metadata": {},
     "output_type": "execute_result"
    }
   ],
   "source": [
    "a"
   ]
  },
  {
   "cell_type": "code",
   "execution_count": 46,
   "metadata": {},
   "outputs": [
    {
     "data": {
      "text/plain": [
       "array([ 1,  2,  3,  4,  5,  6,  7,  8,  9, 10])"
      ]
     },
     "execution_count": 46,
     "metadata": {},
     "output_type": "execute_result"
    }
   ],
   "source": [
    "a.view()"
   ]
  },
  {
   "cell_type": "code",
   "execution_count": 47,
   "metadata": {},
   "outputs": [
    {
     "data": {
      "text/plain": [
       "False"
      ]
     },
     "execution_count": 47,
     "metadata": {},
     "output_type": "execute_result"
    }
   ],
   "source": [
    "np.shares_memory(a, a.copy())"
   ]
  },
  {
   "cell_type": "code",
   "execution_count": 51,
   "metadata": {},
   "outputs": [
    {
     "data": {
      "text/plain": [
       "False"
      ]
     },
     "execution_count": 51,
     "metadata": {},
     "output_type": "execute_result"
    }
   ],
   "source": [
    "import copy\n",
    "np.shares_memory(a.copy(), copy.deepcopy(a))"
   ]
  },
  {
   "cell_type": "code",
   "execution_count": 52,
   "metadata": {},
   "outputs": [
    {
     "data": {
      "text/plain": [
       "array([ 1,  2,  3,  4,  5,  6,  7,  8,  9, 10])"
      ]
     },
     "execution_count": 52,
     "metadata": {},
     "output_type": "execute_result"
    }
   ],
   "source": [
    "a"
   ]
  },
  {
   "cell_type": "code",
   "execution_count": 56,
   "metadata": {},
   "outputs": [],
   "source": [
    "arr0 = a.view()"
   ]
  },
  {
   "cell_type": "code",
   "execution_count": 57,
   "metadata": {},
   "outputs": [],
   "source": [
    "arr1 = a.copy()"
   ]
  },
  {
   "cell_type": "code",
   "execution_count": 58,
   "metadata": {},
   "outputs": [],
   "source": [
    "arr2 = copy.deepcopy(a)"
   ]
  },
  {
   "cell_type": "code",
   "execution_count": 67,
   "metadata": {},
   "outputs": [
    {
     "data": {
      "text/plain": [
       "True"
      ]
     },
     "execution_count": 67,
     "metadata": {},
     "output_type": "execute_result"
    }
   ],
   "source": [
    "np.shares_memory(a, arr0)"
   ]
  },
  {
   "cell_type": "code",
   "execution_count": 68,
   "metadata": {},
   "outputs": [
    {
     "data": {
      "text/plain": [
       "array([36, 22, 39, 38, 73, 86, 10, 25, 63, 12, 82, 35, 69, 23, 56, 78, 74,\n",
       "       14, 76, 70, 63, 61, 52, 64, 61, 76, 84, 18, 63, 35, 67, 34])"
      ]
     },
     "execution_count": 68,
     "metadata": {},
     "output_type": "execute_result"
    }
   ],
   "source": [
    "arr = np.random.randint(100, size=32)\n",
    "arr"
   ]
  },
  {
   "cell_type": "code",
   "execution_count": 72,
   "metadata": {},
   "outputs": [
    {
     "data": {
      "text/plain": [
       "[array([36, 22, 39, 38, 73, 86, 10, 25]),\n",
       " array([], dtype=int64),\n",
       " array([73, 86, 10, 25, 63, 12, 82, 35, 69, 23, 56, 78, 74, 14, 76, 70, 63,\n",
       "        61, 52, 64, 61, 76, 84, 18, 63, 35, 67]),\n",
       " array([34])]"
      ]
     },
     "execution_count": 72,
     "metadata": {},
     "output_type": "execute_result"
    }
   ],
   "source": [
    "np.split(arr, [8, 4, -1])"
   ]
  },
  {
   "cell_type": "code",
   "execution_count": 77,
   "metadata": {},
   "outputs": [
    {
     "data": {
      "text/plain": [
       "array([73, 86, 10, 25, 63, 12, 82, 35, 69, 23, 56, 78, 74, 14, 76, 70, 63,\n",
       "       61, 52, 64, 61, 76, 84, 18, 63, 35, 67])"
      ]
     },
     "execution_count": 77,
     "metadata": {},
     "output_type": "execute_result"
    }
   ],
   "source": [
    "np.split(arr, [8, 4, -1])[2]"
   ]
  },
  {
   "cell_type": "code",
   "execution_count": 78,
   "metadata": {},
   "outputs": [
    {
     "data": {
      "text/plain": [
       "array([[36, 22, 39, 38, 73, 86, 10, 25],\n",
       "       [63, 12, 82, 35, 69, 23, 56, 78],\n",
       "       [74, 14, 76, 70, 63, 61, 52, 64],\n",
       "       [61, 76, 84, 18, 63, 35, 67, 34]])"
      ]
     },
     "execution_count": 78,
     "metadata": {},
     "output_type": "execute_result"
    }
   ],
   "source": [
    "arr.reshape(4, 8)"
   ]
  },
  {
   "cell_type": "code",
   "execution_count": 81,
   "metadata": {},
   "outputs": [
    {
     "data": {
      "text/plain": [
       "[array([[36, 22, 39, 38, 73, 86, 10, 25]]),\n",
       " array([[63, 12, 82, 35, 69, 23, 56, 78]]),\n",
       " array([[74, 14, 76, 70, 63, 61, 52, 64]]),\n",
       " array([[61, 76, 84, 18, 63, 35, 67, 34]])]"
      ]
     },
     "execution_count": 81,
     "metadata": {},
     "output_type": "execute_result"
    }
   ],
   "source": [
    "np.vsplit(arr.reshape(4, 8), 4)"
   ]
  },
  {
   "cell_type": "code",
   "execution_count": 82,
   "metadata": {},
   "outputs": [
    {
     "data": {
      "text/plain": [
       "[array([[36, 22],\n",
       "        [63, 12],\n",
       "        [74, 14],\n",
       "        [61, 76]]),\n",
       " array([[39, 38],\n",
       "        [82, 35],\n",
       "        [76, 70],\n",
       "        [84, 18]]),\n",
       " array([[73, 86],\n",
       "        [69, 23],\n",
       "        [63, 61],\n",
       "        [63, 35]]),\n",
       " array([[10, 25],\n",
       "        [56, 78],\n",
       "        [52, 64],\n",
       "        [67, 34]])]"
      ]
     },
     "execution_count": 82,
     "metadata": {},
     "output_type": "execute_result"
    }
   ],
   "source": [
    "np.hsplit(arr.reshape(4, 8), 4)"
   ]
  },
  {
   "cell_type": "code",
   "execution_count": 91,
   "metadata": {},
   "outputs": [
    {
     "ename": "ValueError",
     "evalue": "all the input array dimensions except for the concatenation axis must match exactly, but along dimension 0, the array at index 0 has size 2 and the array at index 1 has size 1",
     "output_type": "error",
     "traceback": [
      "\u001b[0;31m---------------------------------------------------------------------------\u001b[0m",
      "\u001b[0;31mValueError\u001b[0m                                Traceback (most recent call last)",
      "Cell \u001b[0;32mIn[91], line 3\u001b[0m\n\u001b[1;32m      1\u001b[0m a \u001b[38;5;241m=\u001b[39m np\u001b[38;5;241m.\u001b[39marray([[\u001b[38;5;241m1\u001b[39m,\u001b[38;5;241m2\u001b[39m],[\u001b[38;5;241m3\u001b[39m,\u001b[38;5;241m4\u001b[39m]])\n\u001b[1;32m      2\u001b[0m b \u001b[38;5;241m=\u001b[39m np\u001b[38;5;241m.\u001b[39marray([[\u001b[38;5;241m5\u001b[39m,\u001b[38;5;241m6\u001b[39m]])\n\u001b[0;32m----> 3\u001b[0m \u001b[43mnp\u001b[49m\u001b[38;5;241;43m.\u001b[39;49m\u001b[43mconcatenate\u001b[49m\u001b[43m(\u001b[49m\u001b[43m(\u001b[49m\u001b[43ma\u001b[49m\u001b[43m,\u001b[49m\u001b[43m \u001b[49m\u001b[43mb\u001b[49m\u001b[43m)\u001b[49m\u001b[43m,\u001b[49m\u001b[43m \u001b[49m\u001b[43maxis\u001b[49m\u001b[38;5;241;43m=\u001b[39;49m\u001b[38;5;241;43m1\u001b[39;49m\u001b[43m)\u001b[49m\n",
      "\u001b[0;31mValueError\u001b[0m: all the input array dimensions except for the concatenation axis must match exactly, but along dimension 0, the array at index 0 has size 2 and the array at index 1 has size 1"
     ]
    }
   ],
   "source": [
    "a = np.array([[1,2],[3,4]])\n",
    "b = np.array([[5,6]])\n",
    "np.concatenate((a, b), axis=1)"
   ]
  },
  {
   "cell_type": "code",
   "execution_count": 96,
   "metadata": {},
   "outputs": [
    {
     "data": {
      "text/plain": [
       "array([[ 9, 16, 11,  4,  2, 18, 10,  0],\n",
       "       [19, 14,  0,  6,  5, 11,  9,  6],\n",
       "       [ 6, 15,  2,  2,  5,  4, 18,  4],\n",
       "       [16,  0,  7,  4, 10,  8,  2, 13],\n",
       "       [18,  6,  9,  8,  3, 12, 18,  6],\n",
       "       [19,  0, 12,  0,  0, 12,  9,  2],\n",
       "       [ 0, 14, 11,  0,  5,  0, 13, 16],\n",
       "       [12, 16, 10, 11,  8, 19,  2, 13]])"
      ]
     },
     "execution_count": 96,
     "metadata": {},
     "output_type": "execute_result"
    }
   ],
   "source": [
    "arr = np.random.randint(20, size=64).reshape(8, 8)\n",
    "arr"
   ]
  },
  {
   "cell_type": "code",
   "execution_count": 103,
   "metadata": {},
   "outputs": [
    {
     "data": {
      "text/plain": [
       "[array([[ 9, 16, 11],\n",
       "        [19, 14,  0],\n",
       "        [ 6, 15,  2],\n",
       "        [16,  0,  7],\n",
       "        [18,  6,  9],\n",
       "        [19,  0, 12],\n",
       "        [ 0, 14, 11],\n",
       "        [12, 16, 10]]),\n",
       " array([[ 4,  2],\n",
       "        [ 6,  5],\n",
       "        [ 2,  5],\n",
       "        [ 4, 10],\n",
       "        [ 8,  3],\n",
       "        [ 0,  0],\n",
       "        [ 0,  5],\n",
       "        [11,  8]]),\n",
       " array([[18],\n",
       "        [11],\n",
       "        [ 4],\n",
       "        [ 8],\n",
       "        [12],\n",
       "        [12],\n",
       "        [ 0],\n",
       "        [19]]),\n",
       " array([[10,  0],\n",
       "        [ 9,  6],\n",
       "        [18,  4],\n",
       "        [ 2, 13],\n",
       "        [18,  6],\n",
       "        [ 9,  2],\n",
       "        [13, 16],\n",
       "        [ 2, 13]])]"
      ]
     },
     "execution_count": 103,
     "metadata": {},
     "output_type": "execute_result"
    }
   ],
   "source": [
    "np.hsplit(arr, [3, 5, 6, ])"
   ]
  },
  {
   "cell_type": "code",
   "execution_count": 104,
   "metadata": {},
   "outputs": [
    {
     "data": {
      "text/plain": [
       "[array([[ 9, 16, 11,  4,  2, 18, 10,  0],\n",
       "        [19, 14,  0,  6,  5, 11,  9,  6],\n",
       "        [ 6, 15,  2,  2,  5,  4, 18,  4]]),\n",
       " array([[16,  0,  7,  4, 10,  8,  2, 13],\n",
       "        [18,  6,  9,  8,  3, 12, 18,  6]]),\n",
       " array([[19,  0, 12,  0,  0, 12,  9,  2]]),\n",
       " array([[ 0, 14, 11,  0,  5,  0, 13, 16],\n",
       "        [12, 16, 10, 11,  8, 19,  2, 13]])]"
      ]
     },
     "execution_count": 104,
     "metadata": {},
     "output_type": "execute_result"
    }
   ],
   "source": [
    "np.split(arr, [3, 5, 6, ])"
   ]
  },
  {
   "cell_type": "code",
   "execution_count": 105,
   "metadata": {},
   "outputs": [
    {
     "data": {
      "text/plain": [
       "[array([[ 9, 16, 11,  4,  2, 18, 10,  0],\n",
       "        [19, 14,  0,  6,  5, 11,  9,  6],\n",
       "        [ 6, 15,  2,  2,  5,  4, 18,  4]]),\n",
       " array([[16,  0,  7,  4, 10,  8,  2, 13],\n",
       "        [18,  6,  9,  8,  3, 12, 18,  6]]),\n",
       " array([[19,  0, 12,  0,  0, 12,  9,  2]]),\n",
       " array([[ 0, 14, 11,  0,  5,  0, 13, 16],\n",
       "        [12, 16, 10, 11,  8, 19,  2, 13]])]"
      ]
     },
     "execution_count": 105,
     "metadata": {},
     "output_type": "execute_result"
    }
   ],
   "source": [
    "np.split(arr, [3, 5, 6])"
   ]
  },
  {
   "cell_type": "code",
   "execution_count": null,
   "metadata": {},
   "outputs": [],
   "source": []
  }
 ],
 "metadata": {
  "kernelspec": {
   "display_name": "Python 3 (ipykernel)",
   "language": "python",
   "name": "python3"
  },
  "language_info": {
   "codemirror_mode": {
    "name": "ipython",
    "version": 3
   },
   "file_extension": ".py",
   "mimetype": "text/x-python",
   "name": "python",
   "nbconvert_exporter": "python",
   "pygments_lexer": "ipython3",
   "version": "3.12.2"
  }
 },
 "nbformat": 4,
 "nbformat_minor": 4
}
