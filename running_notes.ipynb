{
 "cells": [
  {
   "cell_type": "code",
   "execution_count": 1,
   "metadata": {},
   "outputs": [],
   "source": [
    "import numpy as np"
   ]
  },
  {
   "cell_type": "code",
   "execution_count": 15,
   "metadata": {},
   "outputs": [
    {
     "data": {
      "text/plain": [
       "array([[38, 86, 88, 89],\n",
       "       [77, 73, 92,  4],\n",
       "       [31, 76, 81, 84],\n",
       "       [44, 31, 92, 77],\n",
       "       [66, 62, 45, 16],\n",
       "       [88, 80,  0, 77],\n",
       "       [66, 64, 90, 73],\n",
       "       [57, 84, 43, 60]])"
      ]
     },
     "execution_count": 15,
     "metadata": {},
     "output_type": "execute_result"
    }
   ],
   "source": [
    "# Create 2D array with random integer elements\n",
    "arr = np.random.randint(100, size=32).reshape(8, 4)\n",
    "arr"
   ]
  },
  {
   "cell_type": "code",
   "execution_count": 16,
   "metadata": {},
   "outputs": [
    {
     "data": {
      "text/plain": [
       "array([[38, 86, 88, 89],\n",
       "       [ 4, 73, 77, 92],\n",
       "       [31, 76, 81, 84],\n",
       "       [31, 44, 77, 92],\n",
       "       [16, 45, 62, 66],\n",
       "       [ 0, 77, 80, 88],\n",
       "       [64, 66, 73, 90],\n",
       "       [43, 57, 60, 84]])"
      ]
     },
     "execution_count": 16,
     "metadata": {},
     "output_type": "execute_result"
    }
   ],
   "source": [
    "np.sort(arr)"
   ]
  },
  {
   "cell_type": "code",
   "execution_count": 17,
   "metadata": {},
   "outputs": [
    {
     "data": {
      "text/plain": [
       "array([[89, 88, 86, 38],\n",
       "       [92, 77, 73,  4],\n",
       "       [84, 81, 76, 31],\n",
       "       [92, 77, 44, 31],\n",
       "       [66, 62, 45, 16],\n",
       "       [88, 80, 77,  0],\n",
       "       [90, 73, 66, 64],\n",
       "       [84, 60, 57, 43]])"
      ]
     },
     "execution_count": 17,
     "metadata": {},
     "output_type": "execute_result"
    }
   ],
   "source": [
    "np.sort(arr)[:, ::-1]"
   ]
  },
  {
   "cell_type": "code",
   "execution_count": 24,
   "metadata": {},
   "outputs": [
    {
     "data": {
      "text/plain": [
       "array([[1, 2, 3, 4, 5, 1, 2, 3, 4, 5],\n",
       "       [1, 2, 3, 4, 5, 1, 2, 3, 4, 5]])"
      ]
     },
     "execution_count": 24,
     "metadata": {},
     "output_type": "execute_result"
    }
   ],
   "source": [
    "somearr = np.array([1, 2, 3, 4, 5])\n",
    "\n",
    "h = np.tile(somearr, (2, 2))\n",
    "h"
   ]
  },
  {
   "cell_type": "code",
   "execution_count": 30,
   "metadata": {},
   "outputs": [
    {
     "data": {
      "text/plain": [
       "False"
      ]
     },
     "execution_count": 30,
     "metadata": {},
     "output_type": "execute_result"
    }
   ],
   "source": [
    "np.shares_memory(somearr, somearr+1)"
   ]
  },
  {
   "cell_type": "code",
   "execution_count": 39,
   "metadata": {},
   "outputs": [],
   "source": [
    "a = np.arange(1, 11)\n",
    "\n",
    "b = a[a%1 == 0]\n"
   ]
  },
  {
   "cell_type": "code",
   "execution_count": 41,
   "metadata": {},
   "outputs": [
    {
     "data": {
      "text/plain": [
       "True"
      ]
     },
     "execution_count": 41,
     "metadata": {},
     "output_type": "execute_result"
    }
   ],
   "source": [
    "np.shares_memory(a, a.view())"
   ]
  },
  {
   "cell_type": "code",
   "execution_count": 43,
   "metadata": {},
   "outputs": [
    {
     "data": {
      "text/plain": [
       "array([ 1,  2,  3,  4,  5,  6,  7,  8,  9, 10])"
      ]
     },
     "execution_count": 43,
     "metadata": {},
     "output_type": "execute_result"
    }
   ],
   "source": [
    "a"
   ]
  },
  {
   "cell_type": "code",
   "execution_count": 46,
   "metadata": {},
   "outputs": [
    {
     "data": {
      "text/plain": [
       "array([ 1,  2,  3,  4,  5,  6,  7,  8,  9, 10])"
      ]
     },
     "execution_count": 46,
     "metadata": {},
     "output_type": "execute_result"
    }
   ],
   "source": [
    "a.view()"
   ]
  },
  {
   "cell_type": "code",
   "execution_count": 47,
   "metadata": {},
   "outputs": [
    {
     "data": {
      "text/plain": [
       "False"
      ]
     },
     "execution_count": 47,
     "metadata": {},
     "output_type": "execute_result"
    }
   ],
   "source": [
    "np.shares_memory(a, a.copy())"
   ]
  },
  {
   "cell_type": "code",
   "execution_count": 51,
   "metadata": {},
   "outputs": [
    {
     "data": {
      "text/plain": [
       "False"
      ]
     },
     "execution_count": 51,
     "metadata": {},
     "output_type": "execute_result"
    }
   ],
   "source": [
    "import copy\n",
    "np.shares_memory(a.copy(), copy.deepcopy(a))"
   ]
  },
  {
   "cell_type": "code",
   "execution_count": 52,
   "metadata": {},
   "outputs": [
    {
     "data": {
      "text/plain": [
       "array([ 1,  2,  3,  4,  5,  6,  7,  8,  9, 10])"
      ]
     },
     "execution_count": 52,
     "metadata": {},
     "output_type": "execute_result"
    }
   ],
   "source": [
    "a"
   ]
  },
  {
   "cell_type": "code",
   "execution_count": 56,
   "metadata": {},
   "outputs": [],
   "source": [
    "arr0 = a.view()"
   ]
  },
  {
   "cell_type": "code",
   "execution_count": 57,
   "metadata": {},
   "outputs": [],
   "source": [
    "arr1 = a.copy()"
   ]
  },
  {
   "cell_type": "code",
   "execution_count": 58,
   "metadata": {},
   "outputs": [],
   "source": [
    "arr2 = copy.deepcopy(a)"
   ]
  },
  {
   "cell_type": "code",
   "execution_count": 67,
   "metadata": {},
   "outputs": [
    {
     "data": {
      "text/plain": [
       "True"
      ]
     },
     "execution_count": 67,
     "metadata": {},
     "output_type": "execute_result"
    }
   ],
   "source": [
    "np.shares_memory(a, arr0)"
   ]
  },
  {
   "cell_type": "code",
   "execution_count": 68,
   "metadata": {},
   "outputs": [
    {
     "data": {
      "text/plain": [
       "array([36, 22, 39, 38, 73, 86, 10, 25, 63, 12, 82, 35, 69, 23, 56, 78, 74,\n",
       "       14, 76, 70, 63, 61, 52, 64, 61, 76, 84, 18, 63, 35, 67, 34])"
      ]
     },
     "execution_count": 68,
     "metadata": {},
     "output_type": "execute_result"
    }
   ],
   "source": [
    "arr = np.random.randint(100, size=32)\n",
    "arr"
   ]
  },
  {
   "cell_type": "code",
   "execution_count": 72,
   "metadata": {},
   "outputs": [
    {
     "data": {
      "text/plain": [
       "[array([36, 22, 39, 38, 73, 86, 10, 25]),\n",
       " array([], dtype=int64),\n",
       " array([73, 86, 10, 25, 63, 12, 82, 35, 69, 23, 56, 78, 74, 14, 76, 70, 63,\n",
       "        61, 52, 64, 61, 76, 84, 18, 63, 35, 67]),\n",
       " array([34])]"
      ]
     },
     "execution_count": 72,
     "metadata": {},
     "output_type": "execute_result"
    }
   ],
   "source": [
    "np.split(arr, [8, 4, -1])"
   ]
  },
  {
   "cell_type": "code",
   "execution_count": 77,
   "metadata": {},
   "outputs": [
    {
     "data": {
      "text/plain": [
       "array([73, 86, 10, 25, 63, 12, 82, 35, 69, 23, 56, 78, 74, 14, 76, 70, 63,\n",
       "       61, 52, 64, 61, 76, 84, 18, 63, 35, 67])"
      ]
     },
     "execution_count": 77,
     "metadata": {},
     "output_type": "execute_result"
    }
   ],
   "source": [
    "np.split(arr, [8, 4, -1])[2]"
   ]
  },
  {
   "cell_type": "code",
   "execution_count": 78,
   "metadata": {},
   "outputs": [
    {
     "data": {
      "text/plain": [
       "array([[36, 22, 39, 38, 73, 86, 10, 25],\n",
       "       [63, 12, 82, 35, 69, 23, 56, 78],\n",
       "       [74, 14, 76, 70, 63, 61, 52, 64],\n",
       "       [61, 76, 84, 18, 63, 35, 67, 34]])"
      ]
     },
     "execution_count": 78,
     "metadata": {},
     "output_type": "execute_result"
    }
   ],
   "source": [
    "arr.reshape(4, 8)"
   ]
  },
  {
   "cell_type": "code",
   "execution_count": 81,
   "metadata": {},
   "outputs": [
    {
     "data": {
      "text/plain": [
       "[array([[36, 22, 39, 38, 73, 86, 10, 25]]),\n",
       " array([[63, 12, 82, 35, 69, 23, 56, 78]]),\n",
       " array([[74, 14, 76, 70, 63, 61, 52, 64]]),\n",
       " array([[61, 76, 84, 18, 63, 35, 67, 34]])]"
      ]
     },
     "execution_count": 81,
     "metadata": {},
     "output_type": "execute_result"
    }
   ],
   "source": [
    "np.vsplit(arr.reshape(4, 8), 4)"
   ]
  },
  {
   "cell_type": "code",
   "execution_count": 82,
   "metadata": {},
   "outputs": [
    {
     "data": {
      "text/plain": [
       "[array([[36, 22],\n",
       "        [63, 12],\n",
       "        [74, 14],\n",
       "        [61, 76]]),\n",
       " array([[39, 38],\n",
       "        [82, 35],\n",
       "        [76, 70],\n",
       "        [84, 18]]),\n",
       " array([[73, 86],\n",
       "        [69, 23],\n",
       "        [63, 61],\n",
       "        [63, 35]]),\n",
       " array([[10, 25],\n",
       "        [56, 78],\n",
       "        [52, 64],\n",
       "        [67, 34]])]"
      ]
     },
     "execution_count": 82,
     "metadata": {},
     "output_type": "execute_result"
    }
   ],
   "source": [
    "np.hsplit(arr.reshape(4, 8), 4)"
   ]
  },
  {
   "cell_type": "code",
   "execution_count": 91,
   "metadata": {},
   "outputs": [
    {
     "ename": "ValueError",
     "evalue": "all the input array dimensions except for the concatenation axis must match exactly, but along dimension 0, the array at index 0 has size 2 and the array at index 1 has size 1",
     "output_type": "error",
     "traceback": [
      "\u001b[0;31m---------------------------------------------------------------------------\u001b[0m",
      "\u001b[0;31mValueError\u001b[0m                                Traceback (most recent call last)",
      "Cell \u001b[0;32mIn[91], line 3\u001b[0m\n\u001b[1;32m      1\u001b[0m a \u001b[38;5;241m=\u001b[39m np\u001b[38;5;241m.\u001b[39marray([[\u001b[38;5;241m1\u001b[39m,\u001b[38;5;241m2\u001b[39m],[\u001b[38;5;241m3\u001b[39m,\u001b[38;5;241m4\u001b[39m]])\n\u001b[1;32m      2\u001b[0m b \u001b[38;5;241m=\u001b[39m np\u001b[38;5;241m.\u001b[39marray([[\u001b[38;5;241m5\u001b[39m,\u001b[38;5;241m6\u001b[39m]])\n\u001b[0;32m----> 3\u001b[0m \u001b[43mnp\u001b[49m\u001b[38;5;241;43m.\u001b[39;49m\u001b[43mconcatenate\u001b[49m\u001b[43m(\u001b[49m\u001b[43m(\u001b[49m\u001b[43ma\u001b[49m\u001b[43m,\u001b[49m\u001b[43m \u001b[49m\u001b[43mb\u001b[49m\u001b[43m)\u001b[49m\u001b[43m,\u001b[49m\u001b[43m \u001b[49m\u001b[43maxis\u001b[49m\u001b[38;5;241;43m=\u001b[39;49m\u001b[38;5;241;43m1\u001b[39;49m\u001b[43m)\u001b[49m\n",
      "\u001b[0;31mValueError\u001b[0m: all the input array dimensions except for the concatenation axis must match exactly, but along dimension 0, the array at index 0 has size 2 and the array at index 1 has size 1"
     ]
    }
   ],
   "source": [
    "a = np.array([[1,2],[3,4]])\n",
    "b = np.array([[5,6]])\n",
    "np.concatenate((a, b), axis=1)"
   ]
  },
  {
   "cell_type": "code",
   "execution_count": 2,
   "metadata": {},
   "outputs": [
    {
     "data": {
      "text/plain": [
       "array([[17,  4,  4,  8,  9,  1,  7,  9],\n",
       "       [ 6, 18,  7, 11,  8, 12,  8, 14],\n",
       "       [ 0,  3,  7, 14, 13, 11,  4, 10],\n",
       "       [19, 18,  5, 13, 19, 12,  1,  6],\n",
       "       [13, 11, 10, 10, 17,  0, 16,  5],\n",
       "       [11, 12,  8, 18, 18,  6, 12,  4],\n",
       "       [ 9, 14,  4,  9, 14,  4, 13, 17],\n",
       "       [12, 15, 10, 13,  9, 13,  9, 15]])"
      ]
     },
     "execution_count": 2,
     "metadata": {},
     "output_type": "execute_result"
    }
   ],
   "source": [
    "arr = np.random.randint(20, size=64).reshape(8, 8)\n",
    "arr"
   ]
  },
  {
   "cell_type": "code",
   "execution_count": 3,
   "metadata": {},
   "outputs": [
    {
     "data": {
      "text/plain": [
       "[array([[17,  4,  4],\n",
       "        [ 6, 18,  7],\n",
       "        [ 0,  3,  7],\n",
       "        [19, 18,  5],\n",
       "        [13, 11, 10],\n",
       "        [11, 12,  8],\n",
       "        [ 9, 14,  4],\n",
       "        [12, 15, 10]]),\n",
       " array([[ 8,  9],\n",
       "        [11,  8],\n",
       "        [14, 13],\n",
       "        [13, 19],\n",
       "        [10, 17],\n",
       "        [18, 18],\n",
       "        [ 9, 14],\n",
       "        [13,  9]]),\n",
       " array([[ 1],\n",
       "        [12],\n",
       "        [11],\n",
       "        [12],\n",
       "        [ 0],\n",
       "        [ 6],\n",
       "        [ 4],\n",
       "        [13]]),\n",
       " array([[ 7,  9],\n",
       "        [ 8, 14],\n",
       "        [ 4, 10],\n",
       "        [ 1,  6],\n",
       "        [16,  5],\n",
       "        [12,  4],\n",
       "        [13, 17],\n",
       "        [ 9, 15]])]"
      ]
     },
     "execution_count": 3,
     "metadata": {},
     "output_type": "execute_result"
    }
   ],
   "source": [
    "np.hsplit(arr, [3, 5, 6, ])"
   ]
  },
  {
   "cell_type": "code",
   "execution_count": 4,
   "metadata": {},
   "outputs": [
    {
     "data": {
      "text/plain": [
       "[array([[17,  4,  4,  8,  9,  1,  7,  9],\n",
       "        [ 6, 18,  7, 11,  8, 12,  8, 14],\n",
       "        [ 0,  3,  7, 14, 13, 11,  4, 10]]),\n",
       " array([[19, 18,  5, 13, 19, 12,  1,  6],\n",
       "        [13, 11, 10, 10, 17,  0, 16,  5]]),\n",
       " array([[11, 12,  8, 18, 18,  6, 12,  4]]),\n",
       " array([[ 9, 14,  4,  9, 14,  4, 13, 17],\n",
       "        [12, 15, 10, 13,  9, 13,  9, 15]])]"
      ]
     },
     "execution_count": 4,
     "metadata": {},
     "output_type": "execute_result"
    }
   ],
   "source": [
    "np.vsplit(arr, [3, 5, 6, ])"
   ]
  },
  {
   "cell_type": "code",
   "execution_count": 5,
   "metadata": {},
   "outputs": [
    {
     "data": {
      "text/plain": [
       "[array([[17,  4,  4,  8,  9,  1,  7,  9],\n",
       "        [ 6, 18,  7, 11,  8, 12,  8, 14],\n",
       "        [ 0,  3,  7, 14, 13, 11,  4, 10]]),\n",
       " array([[19, 18,  5, 13, 19, 12,  1,  6],\n",
       "        [13, 11, 10, 10, 17,  0, 16,  5]]),\n",
       " array([[11, 12,  8, 18, 18,  6, 12,  4]]),\n",
       " array([[ 9, 14,  4,  9, 14,  4, 13, 17],\n",
       "        [12, 15, 10, 13,  9, 13,  9, 15]])]"
      ]
     },
     "execution_count": 5,
     "metadata": {},
     "output_type": "execute_result"
    }
   ],
   "source": [
    "np.split(arr, [3, 5, 6], axis=0) "
   ]
  },
  {
   "cell_type": "code",
   "execution_count": 6,
   "metadata": {},
   "outputs": [
    {
     "data": {
      "text/plain": [
       "array([[[9, 4, 4, 8, 1, 0, 7, 1],\n",
       "        [1, 7, 3, 3, 6, 0, 2, 7],\n",
       "        [6, 7, 4, 5, 4, 1, 6, 8],\n",
       "        [6, 3, 2, 5, 7, 4, 1, 6],\n",
       "        [3, 2, 0, 1, 3, 0, 5, 9],\n",
       "        [6, 2, 1, 9, 6, 6, 6, 6],\n",
       "        [9, 2, 7, 0, 9, 8, 2, 1]],\n",
       "\n",
       "       [[3, 5, 0, 3, 4, 3, 6, 7],\n",
       "        [4, 7, 6, 5, 8, 1, 2, 4],\n",
       "        [2, 2, 3, 3, 3, 7, 4, 9],\n",
       "        [8, 9, 3, 1, 3, 9, 5, 0],\n",
       "        [9, 5, 9, 1, 9, 0, 9, 2],\n",
       "        [6, 1, 3, 1, 4, 6, 3, 0],\n",
       "        [9, 9, 5, 8, 3, 7, 1, 4]],\n",
       "\n",
       "       [[0, 6, 4, 6, 7, 3, 4, 9],\n",
       "        [8, 2, 2, 6, 5, 0, 0, 7],\n",
       "        [5, 4, 9, 0, 9, 4, 3, 4],\n",
       "        [1, 2, 2, 7, 4, 0, 6, 3],\n",
       "        [8, 2, 0, 3, 6, 0, 8, 8],\n",
       "        [8, 9, 6, 7, 9, 7, 7, 7],\n",
       "        [8, 1, 9, 0, 1, 6, 7, 4]]])"
      ]
     },
     "execution_count": 6,
     "metadata": {},
     "output_type": "execute_result"
    }
   ],
   "source": [
    "arr = np.random.randint(10, size=168).reshape(3,7,8)\n",
    "arr"
   ]
  },
  {
   "cell_type": "code",
   "execution_count": 37,
   "metadata": {},
   "outputs": [
    {
     "ename": "ValueError",
     "evalue": "array split does not result in an equal division",
     "output_type": "error",
     "traceback": [
      "\u001b[0;31m---------------------------------------------------------------------------\u001b[0m",
      "\u001b[0;31mValueError\u001b[0m                                Traceback (most recent call last)",
      "\u001b[0;32m/var/folders/8l/f2jwk87j66l_vsfyrwt7gly00000gn/T/ipykernel_8202/695338579.py\u001b[0m in \u001b[0;36m<module>\u001b[0;34m\u001b[0m\n\u001b[0;32m----> 1\u001b[0;31m \u001b[0mnp\u001b[0m\u001b[0;34m.\u001b[0m\u001b[0mdsplit\u001b[0m\u001b[0;34m(\u001b[0m\u001b[0marr\u001b[0m\u001b[0;34m,\u001b[0m \u001b[0;36m7\u001b[0m\u001b[0;34m)\u001b[0m\u001b[0;34m\u001b[0m\u001b[0;34m\u001b[0m\u001b[0m\n\u001b[0m",
      "\u001b[0;32m~/opt/anaconda3/lib/python3.10/site-packages/numpy/lib/shape_base.py\u001b[0m in \u001b[0;36mdsplit\u001b[0;34m(ary, indices_or_sections)\u001b[0m\n\u001b[1;32m   1032\u001b[0m     \u001b[0;32mif\u001b[0m \u001b[0m_nx\u001b[0m\u001b[0;34m.\u001b[0m\u001b[0mndim\u001b[0m\u001b[0;34m(\u001b[0m\u001b[0mary\u001b[0m\u001b[0;34m)\u001b[0m \u001b[0;34m<\u001b[0m \u001b[0;36m3\u001b[0m\u001b[0;34m:\u001b[0m\u001b[0;34m\u001b[0m\u001b[0;34m\u001b[0m\u001b[0m\n\u001b[1;32m   1033\u001b[0m         \u001b[0;32mraise\u001b[0m \u001b[0mValueError\u001b[0m\u001b[0;34m(\u001b[0m\u001b[0;34m'dsplit only works on arrays of 3 or more dimensions'\u001b[0m\u001b[0;34m)\u001b[0m\u001b[0;34m\u001b[0m\u001b[0;34m\u001b[0m\u001b[0m\n\u001b[0;32m-> 1034\u001b[0;31m     \u001b[0;32mreturn\u001b[0m \u001b[0msplit\u001b[0m\u001b[0;34m(\u001b[0m\u001b[0mary\u001b[0m\u001b[0;34m,\u001b[0m \u001b[0mindices_or_sections\u001b[0m\u001b[0;34m,\u001b[0m \u001b[0;36m2\u001b[0m\u001b[0;34m)\u001b[0m\u001b[0;34m\u001b[0m\u001b[0;34m\u001b[0m\u001b[0m\n\u001b[0m\u001b[1;32m   1035\u001b[0m \u001b[0;34m\u001b[0m\u001b[0m\n\u001b[1;32m   1036\u001b[0m \u001b[0;34m\u001b[0m\u001b[0m\n",
      "\u001b[0;32m~/opt/anaconda3/lib/python3.10/site-packages/numpy/lib/shape_base.py\u001b[0m in \u001b[0;36msplit\u001b[0;34m(ary, indices_or_sections, axis)\u001b[0m\n\u001b[1;32m    862\u001b[0m         \u001b[0mN\u001b[0m \u001b[0;34m=\u001b[0m \u001b[0mary\u001b[0m\u001b[0;34m.\u001b[0m\u001b[0mshape\u001b[0m\u001b[0;34m[\u001b[0m\u001b[0maxis\u001b[0m\u001b[0;34m]\u001b[0m\u001b[0;34m\u001b[0m\u001b[0;34m\u001b[0m\u001b[0m\n\u001b[1;32m    863\u001b[0m         \u001b[0;32mif\u001b[0m \u001b[0mN\u001b[0m \u001b[0;34m%\u001b[0m \u001b[0msections\u001b[0m\u001b[0;34m:\u001b[0m\u001b[0;34m\u001b[0m\u001b[0;34m\u001b[0m\u001b[0m\n\u001b[0;32m--> 864\u001b[0;31m             raise ValueError(\n\u001b[0m\u001b[1;32m    865\u001b[0m                 'array split does not result in an equal division') from None\n\u001b[1;32m    866\u001b[0m     \u001b[0;32mreturn\u001b[0m \u001b[0marray_split\u001b[0m\u001b[0;34m(\u001b[0m\u001b[0mary\u001b[0m\u001b[0;34m,\u001b[0m \u001b[0mindices_or_sections\u001b[0m\u001b[0;34m,\u001b[0m \u001b[0maxis\u001b[0m\u001b[0;34m)\u001b[0m\u001b[0;34m\u001b[0m\u001b[0;34m\u001b[0m\u001b[0m\n",
      "\u001b[0;31mValueError\u001b[0m: array split does not result in an equal division"
     ]
    }
   ],
   "source": [
    "np.dsplit(arr, 7)"
   ]
  },
  {
   "cell_type": "code",
   "execution_count": 44,
   "metadata": {},
   "outputs": [
    {
     "data": {
      "text/plain": [
       "array([[1, 2, 3],\n",
       "       [4, 5, 6],\n",
       "       [7, 8, 9]])"
      ]
     },
     "execution_count": 44,
     "metadata": {},
     "output_type": "execute_result"
    }
   ],
   "source": [
    "a = np.array([[1, 2, 3], [4, 5, 6]])\n",
    "b = np.array([[7, 8, 9]])\n",
    "\n",
    "np.concatenate((a, b), axis=0)"
   ]
  },
  {
   "cell_type": "code",
   "execution_count": 47,
   "metadata": {},
   "outputs": [
    {
     "data": {
      "text/plain": [
       "array([[ 1,  2,  3,  4,  6,  7,  8,  9, 10, 11, 12]])"
      ]
     },
     "execution_count": 47,
     "metadata": {},
     "output_type": "execute_result"
    }
   ],
   "source": [
    "a = np.array([[1, 2, 3, 4, 6]])\n",
    "b = np.array([[7, 8, 9, 10, 11, 12]])\n",
    "\n",
    "np.concatenate((a, b), axis=1)"
   ]
  },
  {
   "cell_type": "code",
   "execution_count": 53,
   "metadata": {},
   "outputs": [
    {
     "data": {
      "text/plain": [
       "[array([[1, 2, 0, 5, 8],\n",
       "        [7, 8, 3, 7, 1]]),\n",
       " array([[4, 2, 3, 8, 4],\n",
       "        [7, 8, 6, 4, 2]]),\n",
       " array([[6, 6, 7, 2, 1],\n",
       "        [8, 1, 5, 5, 3]]),\n",
       " array([[2, 2, 2, 6, 6],\n",
       "        [4, 8, 3, 1, 5]]),\n",
       " array([[4, 3, 5, 0, 4],\n",
       "        [0, 3, 1, 8, 3]]),\n",
       " array([[3, 0, 0, 2, 8],\n",
       "        [1, 7, 8, 6, 7]]),\n",
       " array([[8, 2, 6, 4, 4],\n",
       "        [0, 1, 7, 7, 3]]),\n",
       " array([[7, 3, 2, 2, 1],\n",
       "        [7, 7, 0, 7, 2]])]"
      ]
     },
     "execution_count": 53,
     "metadata": {},
     "output_type": "execute_result"
    }
   ],
   "source": [
    "rgen = np.random.default_rng()\n",
    "\n",
    "arr_list = [rgen.integers(low=0, high=9, size=10).reshape(2, 5) for _ in range(8)]\n",
    "arr_list"
   ]
  },
  {
   "cell_type": "code",
   "execution_count": 82,
   "metadata": {},
   "outputs": [
    {
     "data": {
      "text/plain": [
       "array([[[1, 7],\n",
       "        [4, 7],\n",
       "        [6, 8],\n",
       "        [2, 4],\n",
       "        [4, 0],\n",
       "        [3, 1],\n",
       "        [8, 0],\n",
       "        [7, 7]],\n",
       "\n",
       "       [[2, 8],\n",
       "        [2, 8],\n",
       "        [6, 1],\n",
       "        [2, 8],\n",
       "        [3, 3],\n",
       "        [0, 7],\n",
       "        [2, 1],\n",
       "        [3, 7]],\n",
       "\n",
       "       [[0, 3],\n",
       "        [3, 6],\n",
       "        [7, 5],\n",
       "        [2, 3],\n",
       "        [5, 1],\n",
       "        [0, 8],\n",
       "        [6, 7],\n",
       "        [2, 0]],\n",
       "\n",
       "       [[5, 7],\n",
       "        [8, 4],\n",
       "        [2, 5],\n",
       "        [6, 1],\n",
       "        [0, 8],\n",
       "        [2, 6],\n",
       "        [4, 7],\n",
       "        [2, 7]],\n",
       "\n",
       "       [[8, 1],\n",
       "        [4, 2],\n",
       "        [1, 3],\n",
       "        [6, 5],\n",
       "        [4, 3],\n",
       "        [8, 7],\n",
       "        [4, 3],\n",
       "        [1, 2]]])"
      ]
     },
     "execution_count": 82,
     "metadata": {},
     "output_type": "execute_result"
    }
   ],
   "source": [
    "a = np.stack(arr_list, axis=1).T\n",
    "a"
   ]
  },
  {
   "cell_type": "code",
   "execution_count": 85,
   "metadata": {},
   "outputs": [
    {
     "data": {
      "text/plain": [
       "array([[[1, 7],\n",
       "        [4, 7],\n",
       "        [6, 8],\n",
       "        [2, 4],\n",
       "        [4, 0],\n",
       "        [3, 1],\n",
       "        [8, 0],\n",
       "        [7, 7]],\n",
       "\n",
       "       [[2, 8],\n",
       "        [2, 8],\n",
       "        [6, 1],\n",
       "        [2, 8],\n",
       "        [3, 3],\n",
       "        [0, 7],\n",
       "        [2, 1],\n",
       "        [3, 7]],\n",
       "\n",
       "       [[0, 3],\n",
       "        [3, 6],\n",
       "        [7, 5],\n",
       "        [2, 3],\n",
       "        [5, 1],\n",
       "        [0, 8],\n",
       "        [6, 7],\n",
       "        [2, 0]],\n",
       "\n",
       "       [[5, 7],\n",
       "        [8, 4],\n",
       "        [2, 5],\n",
       "        [6, 1],\n",
       "        [0, 8],\n",
       "        [2, 6],\n",
       "        [4, 7],\n",
       "        [2, 7]],\n",
       "\n",
       "       [[8, 1],\n",
       "        [4, 2],\n",
       "        [1, 3],\n",
       "        [6, 5],\n",
       "        [4, 3],\n",
       "        [8, 7],\n",
       "        [4, 3],\n",
       "        [1, 2]]])"
      ]
     },
     "execution_count": 85,
     "metadata": {},
     "output_type": "execute_result"
    }
   ],
   "source": [
    "np.stack(a, axis=0)\n"
   ]
  },
  {
   "cell_type": "code",
   "execution_count": 138,
   "metadata": {},
   "outputs": [
    {
     "data": {
      "text/plain": [
       "array([[4, 1],\n",
       "       [1, 3],\n",
       "       [1, 7],\n",
       "       [5, 8]])"
      ]
     },
     "execution_count": 138,
     "metadata": {},
     "output_type": "execute_result"
    }
   ],
   "source": [
    "mat = np.random.default_rng().integers(low=0, high=9, size=8).reshape(4, 2)\n",
    "mat"
   ]
  },
  {
   "cell_type": "code",
   "execution_count": 139,
   "metadata": {},
   "outputs": [
    {
     "data": {
      "text/plain": [
       "array([[0, 0],\n",
       "       [4, 1],\n",
       "       [1, 3],\n",
       "       [1, 7],\n",
       "       [5, 8],\n",
       "       [0, 0]])"
      ]
     },
     "execution_count": 139,
     "metadata": {},
     "output_type": "execute_result"
    }
   ],
   "source": [
    "# vertical padding\n",
    "padding = np.zeros(mat.shape[1], dtype='int')\n",
    "mat = np.vstack([padding, mat, padding])\n",
    "mat"
   ]
  },
  {
   "cell_type": "code",
   "execution_count": 140,
   "metadata": {},
   "outputs": [
    {
     "data": {
      "text/plain": [
       "array([[0, 0, 0, 0],\n",
       "       [0, 4, 1, 0],\n",
       "       [0, 1, 3, 0],\n",
       "       [0, 1, 7, 0],\n",
       "       [0, 5, 8, 0],\n",
       "       [0, 0, 0, 0]])"
      ]
     },
     "execution_count": 140,
     "metadata": {},
     "output_type": "execute_result"
    }
   ],
   "source": [
    "# horizontal padding\n",
    "padding = np.zeros(mat.shape[0], dtype='int').reshape(-1,1)\n",
    "mat = np.hstack([padding, mat, padding])\n",
    "mat\n",
    "\n",
    "\n"
   ]
  },
  {
   "cell_type": "code",
   "execution_count": 141,
   "metadata": {},
   "outputs": [
    {
     "data": {
      "text/plain": [
       "array([6, 6, 9, 7, 4, 4, 2, 3, 4, 9, 1, 8])"
      ]
     },
     "execution_count": 141,
     "metadata": {},
     "output_type": "execute_result"
    }
   ],
   "source": [
    "arr = np.random.randint(10, size=12)\n",
    "arr"
   ]
  },
  {
   "cell_type": "code",
   "execution_count": 158,
   "metadata": {},
   "outputs": [
    {
     "data": {
      "text/plain": [
       "array([6, 6, 9, 7, 4, 4, 2, 3, 4, 9, 1, 8])"
      ]
     },
     "execution_count": 158,
     "metadata": {},
     "output_type": "execute_result"
    }
   ],
   "source": [
    "arr1 = arr[arr>0]\n",
    "arr1"
   ]
  },
  {
   "cell_type": "code",
   "execution_count": 159,
   "metadata": {},
   "outputs": [
    {
     "data": {
      "text/plain": [
       "False"
      ]
     },
     "execution_count": 159,
     "metadata": {},
     "output_type": "execute_result"
    }
   ],
   "source": [
    "arr1.base is arr"
   ]
  },
  {
   "cell_type": "code",
   "execution_count": 163,
   "metadata": {},
   "outputs": [
    {
     "data": {
      "text/plain": [
       "array([[[0, 0],\n",
       "        [0, 0]],\n",
       "\n",
       "       [[0, 4],\n",
       "        [1, 0]],\n",
       "\n",
       "       [[0, 1],\n",
       "        [3, 0]],\n",
       "\n",
       "       [[0, 1],\n",
       "        [7, 0]],\n",
       "\n",
       "       [[0, 5],\n",
       "        [8, 0]],\n",
       "\n",
       "       [[0, 0],\n",
       "        [0, 0]]])"
      ]
     },
     "execution_count": 163,
     "metadata": {},
     "output_type": "execute_result"
    }
   ],
   "source": [
    "mat.reshape(6,2,2)"
   ]
  },
  {
   "cell_type": "code",
   "execution_count": 165,
   "metadata": {},
   "outputs": [
    {
     "data": {
      "text/plain": [
       "array([[[0, 1],\n",
       "        [7, 0]],\n",
       "\n",
       "       [[0, 5],\n",
       "        [8, 0]],\n",
       "\n",
       "       [[0, 0],\n",
       "        [0, 0]]])"
      ]
     },
     "execution_count": 165,
     "metadata": {},
     "output_type": "execute_result"
    }
   ],
   "source": [
    "mat.reshape(6,2,2)[3::]"
   ]
  },
  {
   "cell_type": "code",
   "execution_count": 168,
   "metadata": {},
   "outputs": [
    {
     "data": {
      "text/plain": [
       "array([[1, 2, 3],\n",
       "       [4, 5, 6],\n",
       "       [7, 8, 9]])"
      ]
     },
     "execution_count": 168,
     "metadata": {},
     "output_type": "execute_result"
    }
   ],
   "source": [
    "arr = np.array([[1,2,3],\n",
    "               [4,5,6],\n",
    "               [7,8,9]])\n",
    "arr"
   ]
  },
  {
   "cell_type": "code",
   "execution_count": 173,
   "metadata": {},
   "outputs": [
    {
     "data": {
      "text/plain": [
       "array([[1, 2, 3, 1],\n",
       "       [4, 5, 6, 4],\n",
       "       [7, 8, 9, 7]])"
      ]
     },
     "execution_count": 173,
     "metadata": {},
     "output_type": "execute_result"
    }
   ],
   "source": [
    "np.hstack((arr, arr[:, 0].reshape(3,1)))"
   ]
  },
  {
   "cell_type": "code",
   "execution_count": null,
   "metadata": {},
   "outputs": [],
   "source": []
  }
 ],
 "metadata": {
  "kernelspec": {
   "display_name": "Python 3 (ipykernel)",
   "language": "python",
   "name": "python3"
  },
  "language_info": {
   "codemirror_mode": {
    "name": "ipython",
    "version": 3
   },
   "file_extension": ".py",
   "mimetype": "text/x-python",
   "name": "python",
   "nbconvert_exporter": "python",
   "pygments_lexer": "ipython3",
   "version": "3.10.15"
  }
 },
 "nbformat": 4,
 "nbformat_minor": 4
}
